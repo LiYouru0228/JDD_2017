{
 "cells": [
  {
   "cell_type": "code",
   "execution_count": 3,
   "metadata": {},
   "outputs": [
    {
     "name": "stdout",
     "output_type": "stream",
     "text": [
      "(10933016, 4)\n",
      "     uid           click_time  pid  param\n",
      "0  12177  2016-10-04 12:22:30    1     19\n",
      "1  29226  2016-10-04 12:18:42    6      1\n",
      "2  37351  2016-10-04 12:18:41   10     16\n",
      "3  82053  2016-10-04 12:18:16    1     40\n",
      "4  82053  2016-10-04 12:18:46    1     40\n"
     ]
    }
   ],
   "source": [
    "import pandas as pd\n",
    "import numpy as np\n",
    "\n",
    "base_path = '/home/liyouru/DataSet/JDD/'\n",
    "path_t_click = base_path + 't_click.csv'\n",
    "path_submit_sample = base_path + 'Loan_Forecasting.csv'\n",
    "\n",
    "uid = []\n",
    "with open(path_submit_sample, 'rb') as f:\n",
    "    f.readline()\n",
    "    for line in f:\n",
    "        line = line.strip().split(',')\n",
    "        uid.append(int(line[0]))\n",
    "\n",
    "df = pd.read_csv(path_t_click) \n",
    "\n",
    "print df.shape\n",
    "print df.head()"
   ]
  },
  {
   "cell_type": "code",
   "execution_count": 12,
   "metadata": {},
   "outputs": [
    {
     "name": "stdout",
     "output_type": "stream",
     "text": [
      "10933016\n",
      "10933016\n"
     ]
    }
   ],
   "source": [
    "click_time = list(df['click_time'])\n",
    "print len(click_time)\n",
    "\n",
    "click_uid_temp = list(df['uid'])\n",
    "click_uid = []\n",
    "for i in range(len(click_uid_temp)):\n",
    "    click_uid.append(int(click_uid_temp[i]))\n",
    "print len(click_uid)"
   ]
  },
  {
   "cell_type": "code",
   "execution_count": 26,
   "metadata": {},
   "outputs": [
    {
     "name": "stdout",
     "output_type": "stream",
     "text": [
      "find!\n"
     ]
    }
   ],
   "source": [
    "from tqdm import tqdm\n",
    "import datetime\n",
    "\n",
    "for each in click_time:\n",
    "    if each[5:7] == '08':\n",
    "        print 'find!'\n",
    "        break"
   ]
  },
  {
   "cell_type": "code",
   "execution_count": 31,
   "metadata": {
    "collapsed": true
   },
   "outputs": [],
   "source": [
    "month_index_order = ['08','09','10','11']\n",
    "\n",
    "def get_click_feature(click_uid,click_time,month_index_order):\n",
    "    click_monthly_feature = []\n",
    "    uid_click_map = {}\n",
    "    \n",
    "    # 初始化一键多值map\n",
    "    for i in range(len(uid)):\n",
    "        for j in range(4):\n",
    "            uid_click_map.setdefault(uid[i],[]).append(0)\n",
    "    \n",
    "    # 计算每个uid月度点击总量\n",
    "    for i in tqdm(range(len(click_uid))):\n",
    "        if click_time[i][5:7] == month_index_order[0]:\n",
    "            uid_click_map[click_uid[i]][0] += 1\n",
    "        elif click_time[i][5:7] == month_index_order[1]:\n",
    "            uid_click_map[click_uid[i]][1] += 1\n",
    "        elif click_time[i][5:7] == month_index_order[2]:\n",
    "            uid_click_map[click_uid[i]][2] += 1\n",
    "        elif click_time[i][5:7] == month_index_order[3]:\n",
    "            uid_click_map[click_uid[i]][3] += 1\n",
    "    \n",
    "    # 保存点击量特征向量\n",
    "    c_feature_1 = []\n",
    "    c_feature_2 = []\n",
    "    c_feature_3 = []\n",
    "    c_feature_4 = []\n",
    "    \n",
    "    for i in range(len(uid)):\n",
    "        c_feature_1.append(uid_click_map[uid[i]][0])\n",
    "        c_feature_2.append(uid_click_map[uid[i]][1])\n",
    "        c_feature_3.append(uid_click_map[uid[i]][2])\n",
    "        c_feature_4.append(uid_click_map[uid[i]][3])\n",
    "\n",
    "    # 并入时序特征\n",
    "    click_monthly_feature.append(c_feature_1)\n",
    "    click_monthly_feature.append(c_feature_2)\n",
    "    click_monthly_feature.append(c_feature_3)\n",
    "    click_monthly_feature.append(c_feature_4)\n",
    "    return click_monthly_feature"
   ]
  },
  {
   "cell_type": "code",
   "execution_count": 34,
   "metadata": {},
   "outputs": [
    {
     "name": "stderr",
     "output_type": "stream",
     "text": [
      "100%|██████████| 10933016/10933016 [00:06<00:00, 1735808.83it/s]\n"
     ]
    },
    {
     "name": "stdout",
     "output_type": "stream",
     "text": [
      "3\n",
      "3\n"
     ]
    }
   ],
   "source": [
    "click_feature = get_click_feature(click_uid,click_time,month_index_order)\n",
    "\n",
    "click_8_10 = []\n",
    "click_9_11 = []\n",
    "\n",
    "click_8_10.extend(click_feature[:3])\n",
    "click_9_11.extend(click_feature[1:4])\n",
    "print len(click_8_10)\n",
    "print len(click_9_11)\n",
    "\n",
    "df_click_8_10 = pd.DataFrame(np.transpose(np.asarray(click_8_10)))\n",
    "df_click_8_10.to_csv(base_path + 'df_click_8_10.csv')\n",
    "\n",
    "df_click_9_11 = pd.DataFrame(np.transpose(np.asarray(click_9_11)))\n",
    "df_click_9_11.to_csv(base_path + 'df_click_9_11.csv')"
   ]
  },
  {
   "cell_type": "code",
   "execution_count": null,
   "metadata": {
    "collapsed": true
   },
   "outputs": [],
   "source": []
  }
 ],
 "metadata": {
  "kernelspec": {
   "display_name": "Python 2",
   "language": "python",
   "name": "python2"
  },
  "language_info": {
   "codemirror_mode": {
    "name": "ipython",
    "version": 2
   },
   "file_extension": ".py",
   "mimetype": "text/x-python",
   "name": "python",
   "nbconvert_exporter": "python",
   "pygments_lexer": "ipython2",
   "version": "2.7.12"
  }
 },
 "nbformat": 4,
 "nbformat_minor": 2
}
