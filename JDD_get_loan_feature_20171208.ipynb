{
 "cells": [
  {
   "cell_type": "code",
   "execution_count": 1,
   "metadata": {},
   "outputs": [
    {
     "name": "stdout",
     "output_type": "stream",
     "text": [
      "90993\n",
      "(202902, 4)\n",
      "     uid            loan_time  loan_amount  plannum\n",
      "0  12135  2016-08-03 00:05:26     3.862595        1\n",
      "1  41403  2016-08-03 00:13:25     5.584137        3\n",
      "2  74458  2016-08-03 00:13:58     4.723017        1\n",
      "3  12959  2016-08-03 00:19:33     3.862595        1\n",
      "4  89641  2016-08-03 00:23:13     4.292651        1\n"
     ]
    }
   ],
   "source": [
    "import pandas as pd\n",
    "import numpy as np\n",
    "base_path = '/home/liyouru/DataSet/JDD/'\n",
    "path_t_loan = base_path + 't_loan.csv'\n",
    "path_submit_sample = base_path + 'Loan_Forecasting.csv'\n",
    "loan_df = pd.read_csv(path_t_loan)\n",
    "\n",
    "uid = []\n",
    "with open(path_submit_sample, 'rb') as f:\n",
    "    f.readline()\n",
    "    for line in f:\n",
    "        line = line.strip().split(',')\n",
    "        uid.append(int(line[0]))\n",
    "\n",
    "print len(uid)\n",
    "print loan_df.shape\n",
    "print loan_df.head()"
   ]
  },
  {
   "cell_type": "code",
   "execution_count": 5,
   "metadata": {},
   "outputs": [
    {
     "name": "stdout",
     "output_type": "stream",
     "text": [
      "202902\n"
     ]
    }
   ],
   "source": [
    "loan_time = list(loan_df['loan_time'])\n",
    "loan_amount = list(loan_df['loan_amount'])\n",
    "\n",
    "loan_uid_temp = list(loan_df['uid'])\n",
    "loan_uid = []\n",
    "for i in range(len(loan_uid_temp)):\n",
    "    loan_uid.append(int(loan_uid_temp[i]))\n",
    "print len(loan_uid)"
   ]
  },
  {
   "cell_type": "code",
   "execution_count": 6,
   "metadata": {},
   "outputs": [
    {
     "name": "stderr",
     "output_type": "stream",
     "text": [
      "100%|██████████| 202902/202902 [00:00<00:00, 1032974.62it/s]\n"
     ]
    },
    {
     "name": "stdout",
     "output_type": "stream",
     "text": [
      "3\n",
      "3\n"
     ]
    }
   ],
   "source": [
    "from tqdm import tqdm\n",
    "\n",
    "month_index_loan = ['08','09','10','11']\n",
    "\n",
    "def get_loan_feature(loan_uid,loan_time,loan_amount,month_index_loan):\n",
    "    loan_monthly_feature = []\n",
    "    uid_loan_map = {}\n",
    "    \n",
    "    # 初始化一键多值map\n",
    "    for i in range(len(uid)):\n",
    "        for j in range(4):\n",
    "            uid_loan_map.setdefault(uid[i],[]).append(0)\n",
    "    \n",
    "    # 计算每个uid月度点击总量\n",
    "    for i in tqdm(range(len(loan_uid))):\n",
    "        if loan_time[i][5:7] == month_index_loan[0]:\n",
    "            uid_loan_map[loan_uid[i]][0] += loan_amount[i]\n",
    "        elif loan_time[i][5:7] == month_index_loan[1]:\n",
    "            uid_loan_map[loan_uid[i]][1] += loan_amount[i]\n",
    "        elif loan_time[i][5:7] == month_index_loan[2]:\n",
    "            uid_loan_map[loan_uid[i]][2] += loan_amount[i]\n",
    "        elif loan_time[i][5:7] == month_index_loan[3]:\n",
    "            uid_loan_map[loan_uid[i]][3] += loan_amount[i]\n",
    "    \n",
    "    # 保存点击量特征向量\n",
    "    c_feature_1 = []\n",
    "    c_feature_2 = []\n",
    "    c_feature_3 = []\n",
    "    c_feature_4 = []\n",
    "    \n",
    "    for i in range(len(uid)):\n",
    "        c_feature_1.append(uid_loan_map[uid[i]][0])\n",
    "        c_feature_2.append(uid_loan_map[uid[i]][1])\n",
    "        c_feature_3.append(uid_loan_map[uid[i]][2])\n",
    "        c_feature_4.append(uid_loan_map[uid[i]][3])\n",
    "\n",
    "    # 并入时序特征\n",
    "    loan_monthly_feature.append(c_feature_1)\n",
    "    loan_monthly_feature.append(c_feature_2)\n",
    "    loan_monthly_feature.append(c_feature_3)\n",
    "    loan_monthly_feature.append(c_feature_4)\n",
    "    return loan_monthly_feature\n",
    "\n",
    "loan_feature = get_loan_feature(loan_uid,loan_time,loan_amount,month_index_loan)\n",
    "\n",
    "loan_8_10 = []\n",
    "loan_9_11 = []\n",
    "\n",
    "loan_8_10.extend(loan_feature[:3])\n",
    "loan_9_11.extend(loan_feature[1:4])\n",
    "print len(loan_8_10)\n",
    "print len(loan_8_10)\n",
    "\n",
    "df_loan_8_10 = pd.DataFrame(np.transpose(np.asarray(loan_8_10)))\n",
    "df_loan_8_10.to_csv(base_path + 'df_loan_8_10.csv')\n",
    "\n",
    "df_loan_9_11 = pd.DataFrame(np.transpose(np.asarray(loan_9_11)))\n",
    "df_loan_9_11.to_csv(base_path + 'df_loan_9_11.csv')"
   ]
  }
 ],
 "metadata": {
  "kernelspec": {
   "display_name": "Python 2",
   "language": "python",
   "name": "python2"
  },
  "language_info": {
   "codemirror_mode": {
    "name": "ipython",
    "version": 2
   },
   "file_extension": ".py",
   "mimetype": "text/x-python",
   "name": "python",
   "nbconvert_exporter": "python",
   "pygments_lexer": "ipython2",
   "version": "2.7.12"
  }
 },
 "nbformat": 4,
 "nbformat_minor": 2
}
